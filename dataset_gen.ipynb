{
 "cells": [
  {
   "cell_type": "code",
   "execution_count": 11,
   "metadata": {
    "collapsed": true
   },
   "outputs": [
    {
     "name": "stderr",
     "output_type": "stream",
     "text": [
      "Warning : `load_model` does not return WordVectorModel or SupervisedModel any more, but a `FastText` object which is very similar.\n"
     ]
    }
   ],
   "source": [
    "from commons import ProductType, Sentiment\n",
    "from typing import Sequence, Dict\n",
    "import pandas as pd\n",
    "from sklearn.model_selection import train_test_split\n",
    "from amazon_scrapping import get_scrapped_reviews, filter_and_format_reviews"
   ]
  },
  {
   "cell_type": "code",
   "execution_count": 12,
   "outputs": [],
   "source": [
    "label_to_numeric: Dict[str, int] = {\"POSITIVE\": 0, \"NEUTRAL\": 1, \"NEGATIVE\": 2}"
   ],
   "metadata": {
    "collapsed": false
   }
  },
  {
   "cell_type": "code",
   "execution_count": 13,
   "outputs": [],
   "source": [
    "reviews_with_labels: list[tuple[str, Sentiment]] = []\n",
    "\n",
    "for product in ProductType:\n",
    "    raw_reviews = get_scrapped_reviews(product_type=product, inout_folder=\"scrapped_data\")\n",
    "    reviews_with_labels.extend(filter_and_format_reviews(raw_reviews=raw_reviews, suppress_errors=True))\n",
    "\n",
    "reviews: Sequence[str] = [rev_label[0] for rev_label in reviews_with_labels]\n",
    "labels: Sequence[int] = [label_to_numeric[rev_label[1]] for rev_label in reviews_with_labels]"
   ],
   "metadata": {
    "collapsed": false
   }
  },
  {
   "cell_type": "code",
   "execution_count": 14,
   "outputs": [
    {
     "name": "stdout",
     "output_type": "stream",
     "text": [
      "label\n",
      "0        19867\n",
      "2         2206\n",
      "1         1181\n",
      "dtype: int64\n",
      "0    14894\n",
      "2     1655\n",
      "1      891\n",
      "Name: label, dtype: int64\n",
      "0    4973\n",
      "2     551\n",
      "1     290\n",
      "Name: label, dtype: int64\n"
     ]
    },
    {
     "data": {
      "text/plain": "                                                    text  label\n22144  Dieses Waschpulver ist sehr ergiebig, riecht g...      0\n12287  Super dicht und hält das Getränk lange heiß! M...      0\n1760   Habe 2 von diesen Bechern einen für Tee und de...      0\n10780                                   Hält sehr lange.      0\n7189   Voll zufrieden. Er ist dicht, hält warm und ha...      0\n21542  Diese Pods, oder wie sie bei Spee heißen Caps ...      0\n13334  Sehr gute Qualität.  Hält die Wärme sehr gut u...      0\n12673  Bisher immer dicht gewesen. Getränk bleibt ult...      0\n17019  Macht das Geschirr sauber. Unterschiede zur Di...      0\n2412                  Tee/Kaffee bleibt stundenlang warm      0",
      "text/html": "<div>\n<style scoped>\n    .dataframe tbody tr th:only-of-type {\n        vertical-align: middle;\n    }\n\n    .dataframe tbody tr th {\n        vertical-align: top;\n    }\n\n    .dataframe thead th {\n        text-align: right;\n    }\n</style>\n<table border=\"1\" class=\"dataframe\">\n  <thead>\n    <tr style=\"text-align: right;\">\n      <th></th>\n      <th>text</th>\n      <th>label</th>\n    </tr>\n  </thead>\n  <tbody>\n    <tr>\n      <th>22144</th>\n      <td>Dieses Waschpulver ist sehr ergiebig, riecht g...</td>\n      <td>0</td>\n    </tr>\n    <tr>\n      <th>12287</th>\n      <td>Super dicht und hält das Getränk lange heiß! M...</td>\n      <td>0</td>\n    </tr>\n    <tr>\n      <th>1760</th>\n      <td>Habe 2 von diesen Bechern einen für Tee und de...</td>\n      <td>0</td>\n    </tr>\n    <tr>\n      <th>10780</th>\n      <td>Hält sehr lange.</td>\n      <td>0</td>\n    </tr>\n    <tr>\n      <th>7189</th>\n      <td>Voll zufrieden. Er ist dicht, hält warm und ha...</td>\n      <td>0</td>\n    </tr>\n    <tr>\n      <th>21542</th>\n      <td>Diese Pods, oder wie sie bei Spee heißen Caps ...</td>\n      <td>0</td>\n    </tr>\n    <tr>\n      <th>13334</th>\n      <td>Sehr gute Qualität.  Hält die Wärme sehr gut u...</td>\n      <td>0</td>\n    </tr>\n    <tr>\n      <th>12673</th>\n      <td>Bisher immer dicht gewesen. Getränk bleibt ult...</td>\n      <td>0</td>\n    </tr>\n    <tr>\n      <th>17019</th>\n      <td>Macht das Geschirr sauber. Unterschiede zur Di...</td>\n      <td>0</td>\n    </tr>\n    <tr>\n      <th>2412</th>\n      <td>Tee/Kaffee bleibt stundenlang warm</td>\n      <td>0</td>\n    </tr>\n  </tbody>\n</table>\n</div>"
     },
     "execution_count": 14,
     "metadata": {},
     "output_type": "execute_result"
    }
   ],
   "source": [
    "df_text: pd.DataFrame = pd.DataFrame({\"text\": reviews})\n",
    "df_labels: pd.DataFrame = pd.DataFrame({\"label\": labels})\n",
    "\n",
    "X_train, X_test, Y_train, Y_test = train_test_split(df_text, df_labels, test_size=0.25, random_state=100)\n",
    "\n",
    "\n",
    "df_train: pd.DataFrame = pd.concat([X_train, Y_train], axis=1)\n",
    "df_test: pd.DataFrame = pd.concat([X_test, Y_test], axis=1)\n",
    "\n",
    "print(df_labels.value_counts())\n",
    "print(df_train[\"label\"].value_counts())\n",
    "print(df_test[\"label\"].value_counts())\n",
    "\n",
    "df_train.to_csv(\"./csv_data/train_more_neutral.csv\", index=False)\n",
    "df_test.to_csv(\"./csv_data/test_more_neutral.csv\", index=False)\n",
    "df_train[0:10]"
   ],
   "metadata": {
    "collapsed": false
   }
  },
  {
   "cell_type": "code",
   "execution_count": null,
   "outputs": [],
   "source": [
    "df_train = pd.read_csv(\"./csv_data/train_more_neutral.csv\")\n",
    "df_test = pd.read_csv(\"./csv_data/test_more_neutral.csv\")"
   ],
   "metadata": {
    "collapsed": false
   }
  },
  {
   "cell_type": "code",
   "execution_count": null,
   "outputs": [],
   "source": [
    "df_train_0 = df_train[df_train[\"label\"] == 0].sample(frac=1.0)\n",
    "df_train_1 = df_train[df_train[\"label\"] == 1].sample(frac=1.0)\n",
    "df_train_2 = df_train[df_train[\"label\"] == 2].sample(frac=1.0)\n",
    "\n",
    "min_train = min(df_train[\"label\"].value_counts())\n",
    "min_test = min(df_test[\"label\"].value_counts())\n",
    "\n",
    "df_train_0 = df_train_0[0:min_train]\n",
    "df_train_1 = df_train_1[0:min_train]\n",
    "df_train_2 = df_train_2[0:min_train]\n",
    "\n",
    "df_test_0 = df_test[df_test[\"label\"] == 0].sample(frac=1.0)\n",
    "df_test_1 = df_test[df_test[\"label\"] == 1].sample(frac=1.0)\n",
    "df_test_2 = df_test[df_test[\"label\"] == 2].sample(frac=1.0)\n",
    "df_test_0 = df_test_0[0:min_test]\n",
    "df_test_1 = df_test_1[0:min_test]\n",
    "df_test_2 = df_test_2[0:min_test]\n",
    "\n",
    "df_test_balanced = pd.concat((df_test_0, df_test_1, df_test_2))\n",
    "df_train_balanced = pd.concat((df_train_0, df_train_1, df_train_2))\n",
    "print(df_test_balanced[\"label\"].value_counts())\n",
    "print(df_train_balanced[\"label\"].value_counts())\n",
    "df_train_balanced.to_csv(\"./csv_data/train_more_neutral_balanced.csv\", index=False)\n",
    "df_test_balanced.to_csv(\"./csv_data/test_more_neutral_balanced.csv\", index=False)"
   ],
   "metadata": {
    "collapsed": false
   }
  },
  {
   "cell_type": "code",
   "execution_count": null,
   "outputs": [],
   "source": [
    "df_train = pd.read_csv(\"./csv_data/train.csv\")\n",
    "df_test = pd.read_csv(\"./csv_data/test.csv\")\n",
    "\n",
    "X = list(df_train[\"text\"])\n",
    "X_test = list(df_test[\"text\"])\n",
    "Y = list(df_train[\"label\"])\n",
    "Y_test = list(df_test[\"label\"])"
   ],
   "metadata": {
    "collapsed": false
   }
  },
  {
   "cell_type": "markdown",
   "source": [],
   "metadata": {
    "collapsed": false
   }
  }
 ],
 "metadata": {
  "kernelspec": {
   "display_name": "Python 3",
   "language": "python",
   "name": "python3"
  },
  "language_info": {
   "codemirror_mode": {
    "name": "ipython",
    "version": 2
   },
   "file_extension": ".py",
   "mimetype": "text/x-python",
   "name": "python",
   "nbconvert_exporter": "python",
   "pygments_lexer": "ipython2",
   "version": "2.7.6"
  }
 },
 "nbformat": 4,
 "nbformat_minor": 0
}
